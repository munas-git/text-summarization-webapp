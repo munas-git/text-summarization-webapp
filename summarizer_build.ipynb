{
 "cells": [
  {
   "cell_type": "code",
   "execution_count": 84,
   "metadata": {},
   "outputs": [],
   "source": [
    "from string import punctuation\n",
    "from nltk.corpus import stopwords\n",
    "from nltk.tokenize import sent_tokenize\n",
    "from nltk.tokenize import word_tokenize"
   ]
  },
  {
   "cell_type": "code",
   "execution_count": 71,
   "metadata": {},
   "outputs": [],
   "source": [
    "sample_text = \"Today, Apple Music is premiering Apple Music Sessions, exclusive live releases featuring some of the world’s most prolific artists and emerging artists, all in Spatial Audio. Recorded out of Apple Music’s studios around the world, Apple Music Sessions gives artists the opportunity to reimagine and recreate hits from their catalog, and creative covers of beloved classics. These unique performances are also filmed, resulting in a special, bespoke live collection comprised of brand-new Spatial Audio tracks and companion live performance music videos that will all be available exclusively to Apple Music fans worldwide. Apple Music Sessions officially launches today with releases from Carrie Underwood and Tenille Townes, recorded out of Apple Music’s new state-of-the-art studios in Nashville, Tennessee..\""
   ]
  },
  {
   "cell_type": "code",
   "execution_count": 7,
   "metadata": {},
   "outputs": [],
   "source": [
    "# English stop words\n",
    "stop_words = stopwords.words('english')"
   ]
  },
  {
   "cell_type": "code",
   "execution_count": 81,
   "metadata": {},
   "outputs": [],
   "source": [
    "# Splitting texts into sentences by use of '.' and other english grammatical criteria.\n",
    "sent_tokens = sent_tokenize(sample_text, 'english')\n",
    "# Splitting texts into words by white space and other english grammatical criteria.\n",
    "word_tokens = word_tokenize(sample_text, 'english')"
   ]
  },
  {
   "cell_type": "code",
   "execution_count": 82,
   "metadata": {},
   "outputs": [
    {
     "name": "stdout",
     "output_type": "stream",
     "text": [
      "Number of sentences: 4\n",
      "Number of words: 136\n"
     ]
    }
   ],
   "source": [
    "print(f'Number of sentences: {len(sent_tokens)}')\n",
    "print(f'Number of words: {len(word_tokens)}')"
   ]
  },
  {
   "cell_type": "code",
   "execution_count": 88,
   "metadata": {},
   "outputs": [
    {
     "name": "stdout",
     "output_type": "stream",
     "text": [
      "Available punctuatios include: \n",
      " !\"#$%&'()*+,-./:;<=>?@[\\]^_`{|}~\n"
     ]
    }
   ],
   "source": [
    "# Display punctuations available in the string library\n",
    "print('Available punctuatios include: \\n',punctuation)\n",
    "#  Due to the absence of the new-space character, I will be adding that to the list of punctuations"
   ]
  }
 ],
 "metadata": {
  "kernelspec": {
   "display_name": "Python 3.10.3 64-bit",
   "language": "python",
   "name": "python3"
  },
  "language_info": {
   "codemirror_mode": {
    "name": "ipython",
    "version": 3
   },
   "file_extension": ".py",
   "mimetype": "text/x-python",
   "name": "python",
   "nbconvert_exporter": "python",
   "pygments_lexer": "ipython3",
   "version": "3.10.3"
  },
  "orig_nbformat": 4,
  "vscode": {
   "interpreter": {
    "hash": "698943654ed90e0d601c73b15b591a66035d577c3c6badc918040a9e516c87b7"
   }
  }
 },
 "nbformat": 4,
 "nbformat_minor": 2
}
