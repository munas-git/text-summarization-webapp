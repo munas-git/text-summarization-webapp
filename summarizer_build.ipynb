{
 "cells": [
  {
   "cell_type": "code",
   "execution_count": 1,
   "metadata": {},
   "outputs": [],
   "source": [
    "from nltk.corpus import stopwords\n",
    "from nltk.tokenize import sent_tokenize\n",
    "from nltk.tokenize import word_tokenize\n",
    "from nltk.corpus import stopwords\n",
    "stop_words = stopwords.words('english')\n",
    "from string import punctuation\n",
    "punctuation = punctuation + '’'"
   ]
  },
  {
   "cell_type": "code",
   "execution_count": 2,
   "metadata": {},
   "outputs": [],
   "source": [
    "sample_text = \"The concept of leadership can be traced back to the very beginning of time in the garden of Eden where the first man, Adam had dominion over every living thing in the garden. Since then, kings have begun to appear. In every gathering, a king was appointed at every rally. Leaders were usually appointed from birth or from God’s instruction. In the Middle Ages, leaders were authoritarian, intimidating, fearful, and rare. As a result of the Renaissance, leadership has moved from the kings alone to parliament which consisted of simple men. This left a question, where did the authority come from? Isn't it from God? Jean-Jacques in 1762 made us know Authority comes from people who give up their personal freedom for their safety and security. Anxiety, robbery, murder was the order of the day for leadership in the Middle Ages. Fear and obedience were planted in the hearts of people between 500 AD and 1300 AD.19th and 20th Century Leadership: The Beginning of the Testimony of the Great Leaders That Emerged Leaders such as Abraham Lincoln of the United States, Giuseppe Mazzini of Italy, Kaiser Wilhelm II of Germany. Scholars have begun to pay more attention to leadership as theories were forming. However, in the 21st century, the emergence of information and communication Technology further evolved the concept of leadership as it provided a platform for greater inclusion in leadership, decision making and planning through globalization.\""
   ]
  },
  {
   "cell_type": "code",
   "execution_count": 5,
   "metadata": {},
   "outputs": [],
   "source": [
    "class Summarizer():\n",
    "    '''\n",
    "    Class containing functions to clean, format and summarize text\n",
    "\n",
    "    > Text : String to be summarized\n",
    "    > churn_level : Float variable ranging from 0.1 to 1.0 representing how many percent of original text content is required in the summary\n",
    "    '''\n",
    "\n",
    "    # Functions\n",
    "    def __init__ (self, text, churn_level):\n",
    "        ''' Constructor method'''\n",
    "        self.text = text\n",
    "        self.churn_level = int(churn_level)\n",
    "\n",
    "    \n",
    "    def word_sentence_tokenizer(self):\n",
    "        \"\"\" This function breaks text into word and sentence tokens\"\"\"\n",
    "        \n",
    "\n",
    "        sent_tokens = sent_tokenize(self.text, 'english')\n",
    "        word_tokens = word_tokenize(self.text, 'english')\n",
    "        return(sent_tokens, word_tokens)\n",
    "\n",
    "    \n",
    "    def word_count_vec(self, word_tokens):\n",
    "        '''\n",
    "         This function produces a dictionary containing the normalized scores of each word tokens in a list\n",
    "         > word_tokens = [] # List of words\n",
    "        '''\n",
    "        clean_words = []\n",
    "        word_frequency_scores = {}\n",
    "\n",
    "        # Looping through to calculate word frequencies\n",
    "        for word in word_tokens:\n",
    "            if word.lower() not in stop_words:\n",
    "                if word not in punctuation:\n",
    "                    clean_words.append(word)\n",
    "                    if word not in word_frequency_scores:\n",
    "                        word_frequency_scores[word] = 1\n",
    "                    else:\n",
    "                        word_frequency_scores[word] += 1\n",
    "        \n",
    "        # Looping through to normalize word_frequency_scores using linear / minmax scaler\n",
    "        max_frequency = max(word_frequency_scores.values())\n",
    "        min_frequency = min(word_frequency_scores.values())\n",
    "        for word in word_frequency_scores.keys():\n",
    "            word_frequency_scores[word] = (word_frequency_scores[word] - min_frequency) / (max_frequency - min_frequency)\n",
    "        return(word_frequency_scores)\n",
    "    \n",
    "\n",
    "    def sentence_scoring(self, sentence_tokens, word_frequency_scores):\n",
    "        '''\n",
    "        This function calculates scores for each sentence and returns a dictionary containing sentence, score and order.\n",
    "        > sentence_tokens: List containing dictionary tokens\n",
    "        > word_frequency_scores: Dictionary containing word tokens and their (normalized) scores\n",
    "        '''\n",
    "        sentence_scores = {}\n",
    "        for sentence in sentence_tokens:\n",
    "            for word in word_tokenize(sentence, 'english'):\n",
    "                if word.lower() in word_frequency_scores.keys():\n",
    "                    if sentence not in sentence_scores.keys():\n",
    "                        sentence_scores[sentence] = word_frequency_scores[word.lower()]\n",
    "                    else:\n",
    "                        sentence_scores[sentence] += word_frequency_scores[word.lower()]\n",
    "        return(sentence_scores)\n",
    "\n",
    "        \n",
    "    def summary_sorting(self, sentence_scores):\n",
    "        '''\n",
    "        This function selects the top n sentences based on the sentence scores\n",
    "        then organizes the final sentence in order of they appear in original text\n",
    "\n",
    "        inputes:\n",
    "        self : churn_level - percentage of original content to capture\n",
    "        sentence_scores - Dictionary containing sentences and their scores.\n",
    "        '''\n",
    "        top_n_sentences = int(self.churn_level * len(sentence_scores.keys()))\n",
    "\n",
    "        # sort all sentences in descending order of their sentence_score values\n",
    "\n"
   ]
  },
  {
   "cell_type": "code",
   "execution_count": 6,
   "metadata": {},
   "outputs": [
    {
     "name": "stdout",
     "output_type": "stream",
     "text": [
      "('The concept of leadership can be traced back to the very beginning of time in the garden of Eden where the first man, Adam had dominion over every living thing in the garden.', 1.9999999999999998, 1)\n",
      "('Since then, kings have begun to appear.', 0.4, 2)\n",
      "('In every gathering, a king was appointed at every rally.', 1.0, 3)\n",
      "('Leaders were usually appointed from birth or from God’s instruction.', 0.2, 4)\n",
      "('In the Middle Ages, leaders were authoritarian, intimidating, fearful, and rare.', 0.0, 5)\n",
      "('As a result of the Renaissance, leadership has moved from the kings alone to parliament which consisted of simple men.', 1.2, 6)\n",
      "('This left a question, where did the authority come from?', 0.0, 7)\n",
      "(\"Isn't it from God?\", 0.0, 8)\n",
      "('Jean-Jacques in 1762 made us know Authority comes from people who give up their personal freedom for their safety and security.', 0.2, 9)\n",
      "('Anxiety, robbery, murder was the order of the day for leadership in the Middle Ages.', 1.0, 10)\n",
      "('Fear and obedience were planted in the hearts of people between 500 AD and 1300 AD.19th and 20th Century Leadership: The Beginning of the Testimony of the Great Leaders That Emerged Leaders such as Abraham Lincoln of the United States, Giuseppe Mazzini of Italy, Kaiser Wilhelm II of Germany.', 1.2, 11)\n",
      "('Scholars have begun to pay more attention to leadership as theories were forming.', 1.2, 12)\n",
      "('However, in the 21st century, the emergence of information and communication Technology further evolved the concept of leadership as it provided a platform for greater inclusion in leadership, decision making and planning through globalization.', 2.2, 13)\n"
     ]
    }
   ],
   "source": [
    "a = Summarizer(sample_text, 5)\n",
    "words = a.word_sentence_tokenizer()\n",
    "words_ = words[1]\n",
    "sentence = words[0]\n",
    "token_scores = a.word_count_vec(words_)\n",
    "test = a.sentence_scoring(sentence, token_scores)\n",
    "\n",
    "order = 1\n",
    "for key, value in test.items():\n",
    "    print((key, value, order))\n",
    "    order += 1"
   ]
  }
 ],
 "metadata": {
  "kernelspec": {
   "display_name": "Python 3.10.3 64-bit",
   "language": "python",
   "name": "python3"
  },
  "language_info": {
   "codemirror_mode": {
    "name": "ipython",
    "version": 3
   },
   "file_extension": ".py",
   "mimetype": "text/x-python",
   "name": "python",
   "nbconvert_exporter": "python",
   "pygments_lexer": "ipython3",
   "version": "3.10.3"
  },
  "orig_nbformat": 4,
  "vscode": {
   "interpreter": {
    "hash": "698943654ed90e0d601c73b15b591a66035d577c3c6badc918040a9e516c87b7"
   }
  }
 },
 "nbformat": 4,
 "nbformat_minor": 2
}
